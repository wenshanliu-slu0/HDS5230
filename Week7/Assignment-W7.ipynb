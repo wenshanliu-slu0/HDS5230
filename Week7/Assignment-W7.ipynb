{
 "cells": [
  {
   "cell_type": "markdown",
   "metadata": {
    "application/vnd.databricks.v1+cell": {
     "cellMetadata": {
      "byteLimit": 2048000,
      "rowLimit": 10000
     },
     "inputWidgets": {},
     "nuid": "70a004f2-d739-4924-b87a-e1ef1c610796",
     "showTitle": false,
     "tableResultSettingsMap": {},
     "title": ""
    }
   },
   "source": [
    "# HDS-5230 W7-Assignment\n",
    "##### Author: Wenshan, Liu\n",
    "##### Date: 03/22/2025"
   ]
  },
  {
   "cell_type": "markdown",
   "metadata": {
    "application/vnd.databricks.v1+cell": {
     "cellMetadata": {
      "byteLimit": 2048000,
      "rowLimit": 10000
     },
     "inputWidgets": {},
     "nuid": "95dd54b3-e39c-4abc-a907-c60f782dad0a",
     "showTitle": false,
     "tableResultSettingsMap": {},
     "title": ""
    }
   },
   "source": [
    "### Unzip dataset\n",
    "The **OP_DTL_GNRL_PGYR2023_P01302025_01212025.csv** file is too large that can not be upload throgh UI interface. However, it can be solved by uploading **PGYR2023_P01302025_01212025.zip** and then decompressing it."
   ]
  },
  {
   "cell_type": "code",
   "execution_count": 0,
   "metadata": {
    "application/vnd.databricks.v1+cell": {
     "cellMetadata": {
      "byteLimit": 2048000,
      "rowLimit": 10000
     },
     "inputWidgets": {},
     "nuid": "6490aeb5-e48a-4108-ba05-92d930e264b8",
     "showTitle": false,
     "tableResultSettingsMap": {},
     "title": ""
    }
   },
   "outputs": [
    {
     "output_type": "execute_result",
     "data": {
      "text/plain": [
       "True"
      ]
     },
     "execution_count": 55,
     "metadata": {},
     "output_type": "execute_result"
    }
   ],
   "source": [
    "import subprocess\n",
    "\n",
    "dbutils.fs.cp(\"dbfs:/FileStore/tables/PGYR2023_P01302025_01212025.zip\", \"file:/tmp/PGYR2023.zip\")\n",
    "\n",
    "subprocess.run(\"unzip -o /tmp/PGYR2023.zip -d /tmp/\", shell=True)\n",
    "\n",
    "dbutils.fs.cp(\"file:/tmp/OP_DTL_GNRL_PGYR2023_P01302025_01212025.csv\", \"dbfs:/FileStore/tables/\", recurse=True)"
   ]
  },
  {
   "cell_type": "markdown",
   "metadata": {
    "application/vnd.databricks.v1+cell": {
     "cellMetadata": {
      "byteLimit": 2048000,
      "rowLimit": 10000
     },
     "inputWidgets": {},
     "nuid": "85e513c7-d173-409f-9e0e-18220ce42648",
     "showTitle": false,
     "tableResultSettingsMap": {},
     "title": ""
    }
   },
   "source": [
    "### Make sure the datasets exist in DBFS"
   ]
  },
  {
   "cell_type": "code",
   "execution_count": 0,
   "metadata": {
    "application/vnd.databricks.v1+cell": {
     "cellMetadata": {
      "byteLimit": 2048000,
      "rowLimit": 10000
     },
     "inputWidgets": {},
     "nuid": "26f00f0c-a4d3-454a-a313-2f524b3d33b9",
     "showTitle": false,
     "tableResultSettingsMap": {},
     "title": ""
    }
   },
   "outputs": [
    {
     "output_type": "stream",
     "name": "stdout",
     "output_type": "stream",
     "text": [
      "OP_CVRD_RCPNT_PRFL_SPLMTL_P01302025_01212025.csv dbfs:/FileStore/tables/OP_CVRD_RCPNT_PRFL_SPLMTL_P01302025_01212025.csv\nOP_DTL_GNRL_PGYR2023_P01302025_01212025.csv dbfs:/FileStore/tables/OP_DTL_GNRL_PGYR2023_P01302025_01212025.csv\nOP_DTL_OWNRSHP_PGYR2023_P01302025_01212025.csv dbfs:/FileStore/tables/OP_DTL_OWNRSHP_PGYR2023_P01302025_01212025.csv\nOP_DTL_RSRCH_PGYR2023_P01302025_01212025.csv dbfs:/FileStore/tables/OP_DTL_RSRCH_PGYR2023_P01302025_01212025.csv\nOP_REMOVED_DELETED_PGYR2023_P01302025_01212025.csv dbfs:/FileStore/tables/OP_REMOVED_DELETED_PGYR2023_P01302025_01212025.csv\nPGYR2023_P01302025_01212025.zip dbfs:/FileStore/tables/PGYR2023_P01302025_01212025.zip\nPHPRFL_P01302025_01212025.zip dbfs:/FileStore/tables/PHPRFL_P01302025_01212025.zip\n"
     ]
    }
   ],
   "source": [
    "files = dbutils.fs.ls(\"dbfs:/FileStore/tables/\")\n",
    "for file in files:\n",
    "    print(file.name, file.path)\n"
   ]
  },
  {
   "cell_type": "markdown",
   "metadata": {
    "application/vnd.databricks.v1+cell": {
     "cellMetadata": {
      "byteLimit": 2048000,
      "rowLimit": 10000
     },
     "inputWidgets": {},
     "nuid": "a7b35dee-343c-4e08-833a-0247a4b1c82c",
     "showTitle": false,
     "tableResultSettingsMap": {},
     "title": ""
    }
   },
   "source": [
    "## Import libs and Initialize SparkSession"
   ]
  },
  {
   "cell_type": "code",
   "execution_count": 0,
   "metadata": {
    "application/vnd.databricks.v1+cell": {
     "cellMetadata": {
      "byteLimit": 2048000,
      "rowLimit": 10000
     },
     "inputWidgets": {},
     "nuid": "dbbdc344-3cf0-494e-bd51-b4b7a5063844",
     "showTitle": false,
     "tableResultSettingsMap": {},
     "title": ""
    }
   },
   "outputs": [],
   "source": [
    "from pyspark.sql import SparkSession\n",
    "from pyspark.sql.functions import col, sum as _sum, count, desc, concat_ws, first\n",
    "\n",
    "# Initialize SparkSession\n",
    "spark = SparkSession.builder.appName(\"OpenPayments2023Analysis\").getOrCreate()\n"
   ]
  },
  {
   "cell_type": "markdown",
   "metadata": {
    "application/vnd.databricks.v1+cell": {
     "cellMetadata": {
      "byteLimit": 2048000,
      "rowLimit": 10000
     },
     "inputWidgets": {},
     "nuid": "4b7492cd-2f98-40f6-a915-b5a2a94efbb0",
     "showTitle": false,
     "tableResultSettingsMap": {},
     "title": ""
    }
   },
   "source": [
    "## Load Dataset"
   ]
  },
  {
   "cell_type": "code",
   "execution_count": 0,
   "metadata": {
    "application/vnd.databricks.v1+cell": {
     "cellMetadata": {
      "byteLimit": 2048000,
      "rowLimit": 10000
     },
     "inputWidgets": {},
     "nuid": "f56bbe19-e768-4201-aeba-a9f2fc52bdc8",
     "showTitle": false,
     "tableResultSettingsMap": {},
     "title": ""
    }
   },
   "outputs": [],
   "source": [
    "\n",
    "# Load General Payments file\n",
    "general_payments_path = \"/FileStore/tables/OP_DTL_GNRL_PGYR2023_P01302025_01212025.csv\"\n",
    "general_df = spark.read.format(\"csv\").option(\"header\", \"true\").load(general_payments_path)\n",
    "\n",
    "# Cast payment amount to double type\n",
    "general_df = general_df.withColumn(\"Total_Amount_of_Payment_USDollars\", \n",
    "                                   col(\"Total_Amount_of_Payment_USDollars\").cast(\"double\"))\n",
    "\n",
    "# Load Supplementary file\n",
    "recipient_profile_path = \"/FileStore/tables/OP_CVRD_RCPNT_PRFL_SPLMTL_P01302025_01212025.csv\"\n",
    "recipient_df = spark.read.format(\"csv\").option(\"header\", \"true\").load(recipient_profile_path)\n"
   ]
  },
  {
   "cell_type": "markdown",
   "metadata": {
    "application/vnd.databricks.v1+cell": {
     "cellMetadata": {
      "byteLimit": 2048000,
      "rowLimit": 10000
     },
     "inputWidgets": {},
     "nuid": "2957d2dd-cb65-4f82-8766-0c624a906e68",
     "showTitle": false,
     "tableResultSettingsMap": {},
     "title": ""
    }
   },
   "source": [
    "## Analysis Tasks"
   ]
  },
  {
   "cell_type": "markdown",
   "metadata": {
    "application/vnd.databricks.v1+cell": {
     "cellMetadata": {
      "byteLimit": 2048000,
      "rowLimit": 10000
     },
     "inputWidgets": {},
     "nuid": "10cf95f1-f365-4e36-bac9-533a19b48eae",
     "showTitle": false,
     "tableResultSettingsMap": {},
     "title": ""
    }
   },
   "source": [
    "### Q1: \n",
    "What is the Nature of Payments with reimbursement amounts greater than $1,000 ordered by count?"
   ]
  },
  {
   "cell_type": "code",
   "execution_count": 0,
   "metadata": {
    "application/vnd.databricks.v1+cell": {
     "cellMetadata": {
      "byteLimit": 2048000,
      "rowLimit": 10000
     },
     "inputWidgets": {},
     "nuid": "8b41a3e2-19f7-4c49-98a9-ed4d467bf749",
     "showTitle": false,
     "tableResultSettingsMap": {},
     "title": ""
    }
   },
   "outputs": [
    {
     "output_type": "stream",
     "name": "stdout",
     "output_type": "stream",
     "text": [
      "Task 1: Nature of Payments with reimbursement amounts > $1,000 ordered by count\n+--------------------------------------+------+\n|Nature_of_Payment_or_Transfer_of_Value| Count|\n+--------------------------------------+------+\n|                  Compensation for ...|164093|\n|                        Consulting Fee|105239|\n|                    Travel and Lodging| 24793|\n|                             Honoraria| 13750|\n|                             Education| 13376|\n|                    Royalty or License| 11538|\n|                  Compensation for ...|  8658|\n|                                 Grant|  4922|\n|                  Space rental or f...|  4917|\n|                  Long term medical...|  2930|\n|                      Debt forgiveness|  1788|\n|                     Food and Beverage|   968|\n|                                  Gift|   630|\n|                          Acquisitions|   563|\n|                  Charitable Contri...|   239|\n|                         Entertainment|    30|\n+--------------------------------------+------+\n\n"
     ]
    }
   ],
   "source": [
    "task1_df = general_df.filter(col(\"Total_Amount_of_Payment_USDollars\") > 1000) \\\n",
    "    .groupBy(\"Nature_of_Payment_or_Transfer_of_Value\") \\\n",
    "    .agg(count(\"*\").alias(\"Count\")) \\\n",
    "    .orderBy(desc(\"Count\")) # sort (desc)\n",
    "\n",
    "print(\"Task 1: Nature of Payments with reimbursement amounts > $1,000 ordered by count\")\n",
    "\n",
    "# show the data\n",
    "task1_df.show()\n"
   ]
  },
  {
   "cell_type": "markdown",
   "metadata": {
    "application/vnd.databricks.v1+cell": {
     "cellMetadata": {
      "byteLimit": 2048000,
      "rowLimit": 10000
     },
     "inputWidgets": {},
     "nuid": "cc7aa726-6e38-4bc2-96eb-9016858c9ec2",
     "showTitle": false,
     "tableResultSettingsMap": {},
     "title": ""
    }
   },
   "source": [
    "### Q2:\n",
    "What are the top ten Nature of Payments by count?"
   ]
  },
  {
   "cell_type": "code",
   "execution_count": 0,
   "metadata": {
    "application/vnd.databricks.v1+cell": {
     "cellMetadata": {
      "byteLimit": 2048000,
      "rowLimit": 10000
     },
     "inputWidgets": {},
     "nuid": "4b5d2772-6ed0-490d-96a3-7538c44ff33a",
     "showTitle": false,
     "tableResultSettingsMap": {},
     "title": ""
    }
   },
   "outputs": [
    {
     "output_type": "stream",
     "name": "stdout",
     "output_type": "stream",
     "text": [
      "Task 2: Top ten Nature of Payments by count\n+--------------------------------------+--------+\n|Nature_of_Payment_or_Transfer_of_Value|   Count|\n+--------------------------------------+--------+\n|                     Food and Beverage|13378464|\n|                    Travel and Lodging|  545086|\n|                  Compensation for ...|  236628|\n|                        Consulting Fee|  170630|\n|                             Education|  161078|\n|                                  Gift|   31786|\n|                             Honoraria|   20232|\n|                    Royalty or License|   15865|\n|                  Compensation for ...|   12234|\n|                         Entertainment|    7967|\n+--------------------------------------+--------+\n\n"
     ]
    }
   ],
   "source": [
    "task2_df = general_df.groupBy(\"Nature_of_Payment_or_Transfer_of_Value\") \\\n",
    "    .agg(count(\"*\").alias(\"Count\")) \\\n",
    "    .orderBy(desc(\"Count\")) \\\n",
    "    .limit(10) # to get top 10 data\n",
    "\n",
    "print(\"Task 2: Top ten Nature of Payments by count\")\n",
    "task2_df.show()"
   ]
  },
  {
   "cell_type": "markdown",
   "metadata": {
    "application/vnd.databricks.v1+cell": {
     "cellMetadata": {
      "byteLimit": 2048000,
      "rowLimit": 10000
     },
     "inputWidgets": {},
     "nuid": "005f1a58-50f6-4d7d-b9ce-d91620c1a189",
     "showTitle": false,
     "tableResultSettingsMap": {},
     "title": ""
    }
   },
   "source": [
    "### Q3:\n",
    "What are the top ten Nature of Payments by total amount?"
   ]
  },
  {
   "cell_type": "code",
   "execution_count": 0,
   "metadata": {
    "application/vnd.databricks.v1+cell": {
     "cellMetadata": {
      "byteLimit": 2048000,
      "rowLimit": 10000
     },
     "inputWidgets": {},
     "nuid": "72870c4a-1521-4340-b16e-473ab41d057c",
     "showTitle": false,
     "tableResultSettingsMap": {},
     "title": ""
    }
   },
   "outputs": [
    {
     "output_type": "stream",
     "name": "stdout",
     "output_type": "stream",
     "text": [
      "Task 3: Top ten Nature of Payments by total amount\n+--------------------------------------+--------------------+\n|Nature_of_Payment_or_Transfer_of_Value|        Total_Amount|\n+--------------------------------------+--------------------+\n|                    Royalty or License|     1.19217456302E9|\n|                  Compensation for ...| 5.946326876500002E8|\n|                        Consulting Fee| 5.148558758999996E8|\n|                     Food and Beverage| 3.744878240099897E8|\n|                    Travel and Lodging|1.7954842378000867E8|\n|                                 Grant|      1.1188856182E8|\n|                          Acquisitions| 7.192577675999999E7|\n|                             Education| 6.469532594000257E7|\n|                             Honoraria| 5.585182388999997E7|\n|                  Long term medical...|       3.009879195E7|\n+--------------------------------------+--------------------+\n\n"
     ]
    }
   ],
   "source": [
    "task3_df = general_df.groupBy(\"Nature_of_Payment_or_Transfer_of_Value\") \\\n",
    "    .agg(_sum(\"Total_Amount_of_Payment_USDollars\").alias(\"Total_Amount\")) \\\n",
    "    .orderBy(desc(\"Total_Amount\")) \\\n",
    "    .limit(10)\n",
    "\n",
    "print(\"Task 3: Top ten Nature of Payments by total amount\")\n",
    "task3_df.show()"
   ]
  },
  {
   "cell_type": "markdown",
   "metadata": {
    "application/vnd.databricks.v1+cell": {
     "cellMetadata": {
      "byteLimit": 2048000,
      "rowLimit": 10000
     },
     "inputWidgets": {},
     "nuid": "20a79970-c1f3-4c29-8416-d60c1934ad16",
     "showTitle": false,
     "tableResultSettingsMap": {},
     "title": ""
    }
   },
   "source": [
    "### Q4:\n",
    " What are the top ten physician specialties by total amount?"
   ]
  },
  {
   "cell_type": "code",
   "execution_count": 0,
   "metadata": {
    "application/vnd.databricks.v1+cell": {
     "cellMetadata": {
      "byteLimit": 2048000,
      "rowLimit": 10000
     },
     "inputWidgets": {},
     "nuid": "6be3a35f-19b3-4fdd-aecc-e8544fbcf6fb",
     "showTitle": false,
     "tableResultSettingsMap": {},
     "title": ""
    }
   },
   "outputs": [
    {
     "output_type": "stream",
     "name": "stdout",
     "output_type": "stream",
     "text": [
      "Task 4: Number of rows with NULL Covered_Recipient_Profile_Primary_Specialty: 275266\nTask 4: Top ten physician specialties by total amount\n+-------------------------------------------+--------------------+\n|Covered_Recipient_Profile_Primary_Specialty|        Total_Amount|\n+-------------------------------------------+--------------------+\n|                       Allopathic & Oste...| 3.777387421599988E8|\n|                       Allopathic & Oste...| 8.678168521999991E7|\n|                       Allopathic & Oste...| 8.586152214999998E7|\n|                       Allopathic & Oste...| 8.065875356000061E7|\n|                       Allopathic & Oste...| 7.277526618000008E7|\n|                       Allopathic & Oste...|6.5723980810000904E7|\n|                       Allopathic & Oste...| 6.566676087000152E7|\n|                       Allopathic & Oste...|6.5418961260000445E7|\n|                       Allopathic & Oste...| 6.302487097000034E7|\n|                       Allopathic & Oste...| 6.131864283000009E7|\n+-------------------------------------------+--------------------+\n\n"
     ]
    }
   ],
   "source": [
    "# First join General Payments with the Supplementary file using Covered_Recipient_Profile_ID\n",
    "joined_df = general_df.join(recipient_df, on=\"Covered_Recipient_Profile_ID\", how=\"left\")\n",
    "\n",
    "# Filter only Recipient Physician\n",
    "joined_df = joined_df.filter(col(\"Covered_Recipient_Profile_Type\") == \"Covered Recipient Physician\")\n",
    "\n",
    "# Count how many rows have a NULL Covered_Recipient_Profile_Primary_Specialty\n",
    "null_specialty_count = joined_df.filter(col(\"Covered_Recipient_Profile_Primary_Specialty\").isNull()).count()\n",
    "print(\"Task 4: Number of rows with NULL Covered_Recipient_Profile_Primary_Specialty:\", null_specialty_count)\n",
    "\n",
    "# Since NULL value would affect the result, filter out rows with NULL specialty values\n",
    "joined_df = joined_df.filter(col(\"Covered_Recipient_Profile_Primary_Specialty\").isNotNull())\n",
    "\n",
    "# Group by physician specialty and calculate total payment amount, then show top ten\n",
    "task4_df = joined_df.groupBy(\"Covered_Recipient_Profile_Primary_Specialty\") \\\n",
    "    .agg(_sum(\"Total_Amount_of_Payment_USDollars\").alias(\"Total_Amount\")) \\\n",
    "    .orderBy(desc(\"Total_Amount\")) \\\n",
    "    .limit(10)\n",
    "\n",
    "print(\"Task 4: Top ten physician specialties by total amount\")\n",
    "task4_df.show()"
   ]
  },
  {
   "cell_type": "markdown",
   "metadata": {
    "application/vnd.databricks.v1+cell": {
     "cellMetadata": {
      "byteLimit": 2048000,
      "rowLimit": 10000
     },
     "inputWidgets": {},
     "nuid": "3de53e46-5168-40f7-b27d-d02a5c09ae45",
     "showTitle": false,
     "tableResultSettingsMap": {},
     "title": ""
    }
   },
   "source": [
    "### Q5:\n",
    "Who are the top ten physicians by total amount?"
   ]
  },
  {
   "cell_type": "code",
   "execution_count": 0,
   "metadata": {
    "application/vnd.databricks.v1+cell": {
     "cellMetadata": {
      "byteLimit": 2048000,
      "rowLimit": 10000
     },
     "inputWidgets": {},
     "nuid": "3e8ddd79-8add-4906-a4b8-120a3c332fa5",
     "showTitle": false,
     "tableResultSettingsMap": {},
     "title": ""
    }
   },
   "outputs": [
    {
     "output_type": "stream",
     "name": "stdout",
     "output_type": "stream",
     "text": [
      "Task 5: Top ten physicians by total amount\n+----------------------------+----------------+-----------------+\n|Covered_Recipient_Profile_ID|  Physician_Name|     Total_Amount|\n+----------------------------+----------------+-----------------+\n|                      288926|STEPHEN BURKHART|    3.392202493E7|\n|                     1166415|  WILLIAM BINDER|    2.943435593E7|\n|                      311622|     KEVIN FOLEY|    1.730653526E7|\n|                      105583|     IVAN OSORIO|    1.606551551E7|\n|                     1141140|  GEORGE MAXWELL|    1.160032024E7|\n|                      177835|    ROBERT BOOTH|        8459144.4|\n|                      120589| NEAL ELATTRACHE|        7810628.2|\n|                      284714| AARON ROSENBERG|6871466.720000001|\n|                      354917|   ROGER JACKSON|        6660383.8|\n|                       72707|   PETER BONUTTI|6385096.170000001|\n+----------------------------+----------------+-----------------+\n\n"
     ]
    }
   ],
   "source": [
    "# Filter General Payments file for physician records based on Covered_Recipient_Type\n",
    "physician_df = general_df.filter(col(\"Covered_Recipient_Type\") == \"Covered Recipient Physician\")\n",
    "\n",
    "# Create a physician name field by concatenating first, middle, and last names\n",
    "physician_df = physician_df.withColumn(\"Physician_Name\", \n",
    "                                         concat_ws(\" \", col(\"Covered_Recipient_First_Name\"), \n",
    "                                                        col(\"Covered_Recipient_Middle_Name\"),\n",
    "                                                        col(\"Covered_Recipient_Last_Name\")))\n",
    "\n",
    "# Group by Covered_Recipient_Profile_ID\n",
    "task5_df = physician_df.groupBy(\"Covered_Recipient_Profile_ID\") \\\n",
    "    .agg(first(\"Physician_Name\").alias(\"Physician_Name\"),\n",
    "         _sum(\"Total_Amount_of_Payment_USDollars\").alias(\"Total_Amount\")) \\\n",
    "    .orderBy(desc(\"Total_Amount\")) \\\n",
    "    .limit(10)\n",
    "\n",
    "print(\"Task 5: Top ten physicians by total amount\")\n",
    "task5_df.show()"
   ]
  }
 ],
 "metadata": {
  "application/vnd.databricks.v1+notebook": {
   "computePreferences": null,
   "dashboards": [],
   "environmentMetadata": {
    "base_environment": "",
    "client": "1"
   },
   "language": "python",
   "notebookMetadata": {
    "mostRecentlyExecutedCommandWithImplicitDF": {
     "commandId": -1,
     "dataframes": [
      "_sqldf"
     ]
    },
    "pythonIndentUnit": 4
   },
   "notebookName": "Assignment-W7",
   "widgets": {}
  }
 },
 "nbformat": 4,
 "nbformat_minor": 0
}
